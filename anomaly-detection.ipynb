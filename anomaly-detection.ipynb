{
 "cells": [
  {
   "cell_type": "markdown",
   "id": "c13d6b3a-dfaa-4e1e-87d3-53d7371bfff9",
   "metadata": {},
   "source": [
    "# Anomaly Detection\n",
    "\n",
    "## Filenames\n",
    "\n",
    "Identify images and movies which does not stick to naming patterns in order to have consistent filenames and which might come from an unusual image source."
   ]
  },
  {
   "cell_type": "code",
   "execution_count": 3,
   "id": "b7748dd1-e9b4-4ab3-81da-1e2b1953c1d1",
   "metadata": {},
   "outputs": [],
   "source": [
    "import os\n",
    "import numpy as np\n",
    "from sklearn.feature_extraction.text import CountVectorizer"
   ]
  },
  {
   "cell_type": "code",
   "execution_count": 210,
   "id": "edb65fd6-ee9f-4670-8848-9ff2a20f4a35",
   "metadata": {},
   "outputs": [
    {
     "name": "stdout",
     "output_type": "stream",
     "text": [
      "30B10CA3-E96D-408B-9F82-BD86CABEFF61.JPG\n",
      "FullSizeRender.heic\n",
      "1D2C26F3-CA07-40F4-84D9-8CC08EF54C48.JPG\n",
      "FullSizeRender-2.MOV\n",
      "FullSizeRender.MOV\n",
      "FullSizeRender-1.MOV\n",
      "FullSizeRender-2.heic\n",
      "AC6AB640-0BD8-43C3-BC47-D0856FBA6422.jpg\n",
      "9F8D4DD2-B460-4213-BEA0-461BF2DB3E1C.jpg\n",
      "FullSizeRender-1.heic\n",
      "6427165E-9C83-476E-BB8C-B2D27E63CDB2.JPG\n",
      "23600585-C713-45C4-AD8D-22E08871F18A.jpg\n"
     ]
    }
   ],
   "source": [
    "filenames = os.listdir(os.path.expanduser('~') + '/Downloads/photos')\n",
    "\n",
    "# vectorize a list of filenames using a CountVectorizer\n",
    "vectorizer = CountVectorizer(analyzer='char', lowercase=False, max_features=8)\n",
    "vectors = vectorizer.fit_transform(filenames).toarray()\n",
    "\n",
    "# mean vector of all filenames\n",
    "mean_vector = np.mean(vectors, axis=0)\n",
    "    \n",
    "# Euclidean distance between filename vector and mean vector\n",
    "euclidean_distances = np.linalg.norm(vectors - mean_vector, axis=1)\n",
    "\n",
    "# identify filenames that are significantly different from the mean (outside z-score of 4)\n",
    "z_score = 4\n",
    "anomaly_indices = np.where(euclidean_distances > np.mean(euclidean_distances) + z_score * np.std(euclidean_distances))[0]\n",
    "\n",
    "for index in anomaly_indices:\n",
    "    print(filenames[index])"
   ]
  },
  {
   "cell_type": "code",
   "execution_count": null,
   "id": "20bc8dc0-a477-4dae-8212-7ad0932dc406",
   "metadata": {},
   "outputs": [],
   "source": []
  }
 ],
 "metadata": {
  "kernelspec": {
   "display_name": "Python 3 (ipykernel)",
   "language": "python",
   "name": "python3"
  },
  "language_info": {
   "codemirror_mode": {
    "name": "ipython",
    "version": 3
   },
   "file_extension": ".py",
   "mimetype": "text/x-python",
   "name": "python",
   "nbconvert_exporter": "python",
   "pygments_lexer": "ipython3",
   "version": "3.10.9"
  }
 },
 "nbformat": 4,
 "nbformat_minor": 5
}
